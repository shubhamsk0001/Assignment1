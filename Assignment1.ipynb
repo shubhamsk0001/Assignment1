{
 "cells": [
  {
   "cell_type": "code",
   "execution_count": null,
   "id": "b1920ab9",
   "metadata": {},
   "outputs": [],
   "source": [
    "1. In the below elements which of them are values or an expression? eg:- values can be\n",
    "integer or string and expressions will be mathematical operators.\n",
    "*\n",
    "'hello'\n",
    "-87.8\n",
    "-\n",
    "/\n",
    "+\n",
    "6"
   ]
  },
  {
   "cell_type": "code",
   "execution_count": null,
   "id": "4e94ae88",
   "metadata": {},
   "outputs": [],
   "source": [
    "The elements which of them are values are:-\n",
    "'hello'\n",
    "-87.8\n",
    "6\n",
    "because 'hello'is string and -87.8,6 are integers.\n",
    "The elements which of them are expressions are:-\n",
    "*\n",
    "-\n",
    "/\n",
    "+\n",
    "because * are multiplication operator,- are subtraction operator,/ are division operator,+ are addition operator.\n",
    "And all of them are mathematical operator."
   ]
  },
  {
   "cell_type": "code",
   "execution_count": null,
   "id": "b3d06668",
   "metadata": {},
   "outputs": [],
   "source": [
    "2. What is the difference between string and variable?"
   ]
  },
  {
   "cell_type": "code",
   "execution_count": null,
   "id": "9c1528b3",
   "metadata": {},
   "outputs": [],
   "source": [
    "A variable is an object where one can store the information.\n",
    "                        whereas\n",
    "A String is a type of information which would be stored inside a Variable.\n",
    "X=\" My name is xyz\"\n",
    "here:-\n",
    "X is a variable because It stores the information.\n",
    "\"My name is xyz\" is string because type of information which is stored inside a variable is string."
   ]
  },
  {
   "cell_type": "code",
   "execution_count": null,
   "id": "827d0c62",
   "metadata": {},
   "outputs": [],
   "source": [
    "3. Describe three different data types"
   ]
  },
  {
   "cell_type": "code",
   "execution_count": null,
   "id": "a8289544",
   "metadata": {},
   "outputs": [],
   "source": [
    "Three different data types are:-\n",
    "Numeric- It is used to store numerical values. Numeric data type is further classified into int, float and complex.\n",
    "Sequence-It is used to store data following a particular index and can call called using the index.\n",
    "Sequence data type is further classified into Strings, List and Tuple.\n",
    "Dictionary- It is used to store key and value pair. Every value can be called using a particular key."
   ]
  },
  {
   "cell_type": "code",
   "execution_count": null,
   "id": "b623a1cd",
   "metadata": {},
   "outputs": [],
   "source": [
    "4. What is an expression made up of? What do all expressions do?"
   ]
  },
  {
   "cell_type": "code",
   "execution_count": null,
   "id": "3858a7e3",
   "metadata": {},
   "outputs": [],
   "source": [
    "An expression is a combination of operators and operands that is interpreted to produce some other value.\n",
    "In any programming language, an expression is evaluated as per the precedence of its operators.\n",
    "The work of all expression is to solve a particular task as per required by the problem."
   ]
  },
  {
   "cell_type": "code",
   "execution_count": null,
   "id": "1d61c7b1",
   "metadata": {},
   "outputs": [],
   "source": [
    "5. This assignment statements, like spam = 10. What is the difference between an expression and a statement?"
   ]
  },
  {
   "cell_type": "code",
   "execution_count": null,
   "id": "12296875",
   "metadata": {},
   "outputs": [],
   "source": [
    "In programming language terminology, an “expression” is a combination of values and functions that \n",
    "are combined and interpreted by the compiler to create a new value as opposed to a “statement” which\n",
    "is just a standalone unit of execution and doesn't return anything."
   ]
  },
  {
   "cell_type": "code",
   "execution_count": null,
   "id": "c2985628",
   "metadata": {},
   "outputs": [],
   "source": [
    "6. After running the following code, what does the variable bacon contain?\n",
    "bacon = 22\n",
    "bacon + 1"
   ]
  },
  {
   "cell_type": "code",
   "execution_count": null,
   "id": "22c145ed",
   "metadata": {},
   "outputs": [],
   "source": [
    "Here value of bacon will be 22 because:-\n",
    "Although the value is increased but not assigned to the variable.So the value of bacon will be 22.\n"
   ]
  },
  {
   "cell_type": "code",
   "execution_count": null,
   "id": "607d41a0",
   "metadata": {},
   "outputs": [],
   "source": [
    "7. What should the values of the following two terms be?\n",
    "'spam'+'spamspam'\n",
    "'spam'*3"
   ]
  },
  {
   "cell_type": "code",
   "execution_count": null,
   "id": "bc937426",
   "metadata": {},
   "outputs": [],
   "source": [
    "The value of both the statement will be same.The output will be 'spamspamspam'"
   ]
  },
  {
   "cell_type": "code",
   "execution_count": null,
   "id": "5988afda",
   "metadata": {},
   "outputs": [],
   "source": [
    "8. Why is eggs a valid variable name while 100 is invalid?"
   ]
  },
  {
   "cell_type": "code",
   "execution_count": null,
   "id": "73bb900e",
   "metadata": {},
   "outputs": [],
   "source": [
    "eggs a valid variable name while 100 is invalid because a variable name must start with an alphabet or an underscore.\n",
    "Hence egg is valid because It stats with an alphabet so valid whereas 100 does not start with an alphabet or an\n",
    "underscore so invalid."
   ]
  },
  {
   "cell_type": "code",
   "execution_count": null,
   "id": "8af5ed73",
   "metadata": {},
   "outputs": [],
   "source": [
    "9. What three functions can be used to get the integer, floating-point number, or string version of a value?"
   ]
  },
  {
   "cell_type": "code",
   "execution_count": null,
   "id": "13b84e87",
   "metadata": {},
   "outputs": [],
   "source": [
    "The functions can that can be used for different version of value are given below:-\n",
    "integer-int()\n",
    "floating-point number-float()\n",
    "string-str()"
   ]
  },
  {
   "cell_type": "code",
   "execution_count": null,
   "id": "d652a7a7",
   "metadata": {},
   "outputs": [],
   "source": [
    "# 10. Why does this expression cause an error? How can you fix it?\n",
    "'I have eaten'+99+'burritos'."
   ]
  },
  {
   "cell_type": "code",
   "execution_count": null,
   "id": "a1e7ad6d",
   "metadata": {},
   "outputs": [],
   "source": [
    "The error caused by the expression is invalid syntax.\n",
    "It can be fixed by putting 99 in the single quotes."
   ]
  }
 ],
 "metadata": {
  "kernelspec": {
   "display_name": "Python 3 (ipykernel)",
   "language": "python",
   "name": "python3"
  },
  "language_info": {
   "codemirror_mode": {
    "name": "ipython",
    "version": 3
   },
   "file_extension": ".py",
   "mimetype": "text/x-python",
   "name": "python",
   "nbconvert_exporter": "python",
   "pygments_lexer": "ipython3",
   "version": "3.9.12"
  }
 },
 "nbformat": 4,
 "nbformat_minor": 5
}
